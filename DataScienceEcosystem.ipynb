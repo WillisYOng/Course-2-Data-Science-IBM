{
  "nbformat": 4,
  "nbformat_minor": 0,
  "metadata": {
    "colab": {
      "provenance": []
    },
    "kernelspec": {
      "name": "python3",
      "display_name": "Python 3"
    },
    "language_info": {
      "name": "python"
    }
  },
  "cells": [
    {
      "cell_type": "markdown",
      "source": [
        "# Data Science Tools and Ecosystem\n"
      ],
      "metadata": {
        "id": "XQAaSbPm2W6p"
      }
    },
    {
      "cell_type": "markdown",
      "source": [
        "In this notebook, Data Science Tools and Ecosystem are summarized.\n",
        "\n"
      ],
      "metadata": {
        "id": "92kqUPQv2nZH"
      }
    },
    {
      "cell_type": "markdown",
      "source": [
        "Some of the popular languages that Data Scientists use are:\n",
        "\n",
        "1. Python\n",
        "2. R\n",
        "3. SQL"
      ],
      "metadata": {
        "id": "JsCTOymD2scS"
      }
    },
    {
      "cell_type": "markdown",
      "source": [
        "**Objectives**:\n",
        "\n",
        "\n",
        "\n",
        "*   List popular languages for Data Science\n",
        "*   List popular libraries for Data Science\n",
        "*   List evaluate operations in Python\n",
        "*   List data science tools used\n",
        "\n",
        "\n",
        "\n"
      ],
      "metadata": {
        "id": "FktuhY4EA-dt"
      }
    },
    {
      "cell_type": "markdown",
      "source": [
        "Some of the commonly used libraries used by Data Scientists include:\n",
        "\n",
        "1. ggplot\n",
        "2. pandas\n",
        "3. matplotlib\n",
        "4. seaborn"
      ],
      "metadata": {
        "id": "E_9NRTLb_uNr"
      }
    },
    {
      "cell_type": "markdown",
      "source": [
        "Data Science Tools |\n",
        "-------------------|\n",
        "Jupyter\n",
        "Apache Spark\n",
        "Github"
      ],
      "metadata": {
        "id": "DPYtLVPa_3nA"
      }
    },
    {
      "cell_type": "markdown",
      "source": [
        "### Below are a few examples of evaluating arithmetic expressions in Python.\n",
        "\n"
      ],
      "metadata": {
        "id": "cPlnavHDAlc2"
      }
    },
    {
      "cell_type": "code",
      "source": [
        "#This a simple arithmetic expression to mutiply then add integers\n",
        "\n",
        "(3*4)+5"
      ],
      "metadata": {
        "colab": {
          "base_uri": "https://localhost:8080/"
        },
        "id": "9V0Hk63D2sGp",
        "outputId": "02e8ad55-b0ce-42a7-8bec-58807a00343d"
      },
      "execution_count": null,
      "outputs": [
        {
          "output_type": "execute_result",
          "data": {
            "text/plain": [
              "17"
            ]
          },
          "metadata": {},
          "execution_count": 1
        }
      ]
    },
    {
      "cell_type": "code",
      "execution_count": null,
      "metadata": {
        "colab": {
          "base_uri": "https://localhost:8080/"
        },
        "id": "kNqmTRFS2R8z",
        "outputId": "83f3a975-20a3-45d6-c220-76d54dab2fcd"
      },
      "outputs": [
        {
          "output_type": "execute_result",
          "data": {
            "text/plain": [
              "3.3333333333333335"
            ]
          },
          "metadata": {},
          "execution_count": 2
        }
      ],
      "source": [
        "#This will convert 200 minutes to hours by diving by 60\n",
        "\n",
        "200/60"
      ]
    },
    {
      "cell_type": "markdown",
      "source": [
        "## Author:\n",
        "Willis Ong"
      ],
      "metadata": {
        "id": "fLXt9bU5BcoY"
      }
    },
    {
      "cell_type": "code",
      "source": [],
      "metadata": {
        "id": "QT3oAaDTBiXs"
      },
      "execution_count": null,
      "outputs": []
    }
  ]
}